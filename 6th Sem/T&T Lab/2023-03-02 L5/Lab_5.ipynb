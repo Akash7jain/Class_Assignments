{
 "cells": [
  {
   "cell_type": "code",
   "execution_count": 37,
   "id": "a2c8c1b5",
   "metadata": {},
   "outputs": [],
   "source": [
    "import cv2"
   ]
  },
  {
   "cell_type": "code",
   "execution_count": 38,
   "id": "5255f1d4",
   "metadata": {},
   "outputs": [],
   "source": [
    "img = cv2.imread('cat.jpg')\n",
    "cv2.imshow('image', img)\n",
    "cv2.waitKey(0)\n",
    "cv2.destroyAllWindows()"
   ]
  },
  {
   "cell_type": "code",
   "execution_count": null,
   "id": "9761c6da",
   "metadata": {},
   "outputs": [
    {
     "name": "stdout",
     "output_type": "stream",
     "text": [
      "Pixel value: [189 181 151]\n"
     ]
    }
   ],
   "source": [
    "pixel_value = img[118, 320]\n",
    "print('Pixel value:', pixel_value)\n",
    "x = 0\n",
    "y = 0\n",
    "for i in img:\n",
    "    for j in i:\n",
    "        if j[0] == 189 and j[1] == 181 and j[2] == 151:\n",
    "            cv2.circle(img, (y, x), 5, (0, 0, 255), 1)\n",
    "            cv2.imshow('image', img)\n",
    "            cv2.waitKey(0)\n",
    "            cv2.destroyAllWindows()\n",
    "        y += 1\n",
    "    x += 1\n",
    "    y = 0"
   ]
  },
  {
   "cell_type": "code",
   "execution_count": null,
   "id": "c8df1315",
   "metadata": {},
   "outputs": [],
   "source": []
  },
  {
   "cell_type": "code",
   "execution_count": null,
   "id": "8de92e55",
   "metadata": {},
   "outputs": [],
   "source": []
  }
 ],
 "metadata": {
  "kernelspec": {
   "display_name": "Python 3 (ipykernel)",
   "language": "python",
   "name": "python3"
  },
  "language_info": {
   "codemirror_mode": {
    "name": "ipython",
    "version": 3
   },
   "file_extension": ".py",
   "mimetype": "text/x-python",
   "name": "python",
   "nbconvert_exporter": "python",
   "pygments_lexer": "ipython3",
   "version": "3.10.7"
  }
 },
 "nbformat": 4,
 "nbformat_minor": 5
}
